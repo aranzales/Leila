{
 "cells": [
  {
   "cell_type": "markdown",
   "metadata": {},
   "source": [
    "# Caso de uso: viajar al exterior\n",
    "\n",
    "<p align=\"center\">\n",
    "  <img src=\"imgs/viaje.png\" width=400 height=200 />\n",
    "</p>\n",
    "\n",
    "\n",
    "María tiene muchas ganas de hacer un viaje a otro país para salir de la monotonía y conocer otras culturas. Sin embargo, hay dos obstáculos para esto:\n",
    "\n",
    "* María no sabe a cuáles países puede viajar, pues algunos países tienen requerimientos de visas para colombianos.\n",
    "* No es claro cuándo se podrá viajar, debido a la pandemía ocasionada por el COVID19.\n"
   ]
  },
  {
   "cell_type": "markdown",
   "metadata": {},
   "source": [
    "# 1. Visas para colombianos en el exterior\n",
    "\n",
    "Para resolver la primera de estas dudas, María decide que quizás pueda encontrar datos útiles para esto en <a href=\"https://datos.gov.co/\" target=\"_blank\">el portal de Datos Abiertos Colombia</a>. Además, como tiene LEILA a su alcance, decide hacer esta consulta directamente desde Python."
   ]
  },
  {
   "cell_type": "markdown",
   "metadata": {},
   "source": [
    "---\n",
    "## Importar librerías y módulos\n",
    "Lo primero que debe hacer María es importar los módulos necesarios de **LEILA**."
   ]
  },
  {
   "cell_type": "code",
   "execution_count": 1,
   "metadata": {},
   "outputs": [],
   "source": [
    "# Para evaluar la calidad de datos de un conjunto estructurado\n",
    "from leila.calidad_datos import CalidadDatos\n",
    "# Para buscar y descargar datasets del portal de datos abiertos\n",
    "from leila import datos_gov\n",
    "# Para genererar un reporte interactivo con la información de un conjunto de datos determinado\n",
    "from leila.reporte import generar_reporte"
   ]
  },
  {
   "cell_type": "markdown",
   "metadata": {},
   "source": [
    "---\n",
    "## Descargar tabla con metadatos del Portal\n",
    "Lo primero que decide hacer María es descargar el inventario completo de datos disponibles en el portal de datos abiertos. Para esto, solo necesita un comando, que descargará este inventario actualizado como un objeto *DataFrame* de Pandas. "
   ]
  },
  {
   "cell_type": "code",
   "execution_count": 2,
   "metadata": {},
   "outputs": [
    {
     "name": "stderr",
     "output_type": "stream",
     "text": [
      "WARNING:root:Requests made without an app_token will be subject to strict throttling limits.\n"
     ]
    }
   ],
   "source": [
    "inventario = datos_gov.tabla_inventario()"
   ]
  },
  {
   "cell_type": "code",
   "execution_count": 3,
   "metadata": {},
   "outputs": [
    {
     "data": {
      "text/html": [
       "<div>\n",
       "<style scoped>\n",
       "    .dataframe tbody tr th:only-of-type {\n",
       "        vertical-align: middle;\n",
       "    }\n",
       "\n",
       "    .dataframe tbody tr th {\n",
       "        vertical-align: top;\n",
       "    }\n",
       "\n",
       "    .dataframe thead th {\n",
       "        text-align: right;\n",
       "    }\n",
       "</style>\n",
       "<table border=\"1\" class=\"dataframe\">\n",
       "  <thead>\n",
       "    <tr style=\"text-align: right;\">\n",
       "      <th></th>\n",
       "      <th>numero_api</th>\n",
       "      <th>nombre</th>\n",
       "      <th>descripcion</th>\n",
       "      <th>dueno</th>\n",
       "      <th>tipo</th>\n",
       "      <th>categoria</th>\n",
       "      <th>terminos_clave</th>\n",
       "      <th>url</th>\n",
       "      <th>fecha_creacion</th>\n",
       "      <th>fecha_actualizacion</th>\n",
       "      <th>...</th>\n",
       "      <th>entidad</th>\n",
       "      <th>entidad_url</th>\n",
       "      <th>entidad_sector</th>\n",
       "      <th>entidad_departamento</th>\n",
       "      <th>entidad_orden</th>\n",
       "      <th>entidad_dependencia</th>\n",
       "      <th>entidad_municipio</th>\n",
       "      <th>idioma</th>\n",
       "      <th>cobertura</th>\n",
       "      <th>base_publica</th>\n",
       "    </tr>\n",
       "  </thead>\n",
       "  <tbody>\n",
       "    <tr>\n",
       "      <th>0</th>\n",
       "      <td>pxrj-5yk9:0</td>\n",
       "      <td>Organizaciones/Entidades Aplicación SIIA - Acr...</td>\n",
       "      <td></td>\n",
       "      <td>UAEOS</td>\n",
       "      <td>conjunto de datos</td>\n",
       "      <td>NaN</td>\n",
       "      <td>NaN</td>\n",
       "      <td>https://www.datos.gov.co/d/pxrj-5yk9/revisions/0</td>\n",
       "      <td>2019-12-05</td>\n",
       "      <td>2019-12-05</td>\n",
       "      <td>...</td>\n",
       "      <td>NaN</td>\n",
       "      <td>NaN</td>\n",
       "      <td>NaN</td>\n",
       "      <td>NaN</td>\n",
       "      <td>NaN</td>\n",
       "      <td>NaN</td>\n",
       "      <td>NaN</td>\n",
       "      <td>NaN</td>\n",
       "      <td>NaN</td>\n",
       "      <td>No</td>\n",
       "    </tr>\n",
       "    <tr>\n",
       "      <th>1</th>\n",
       "      <td>9inf-whsd:0</td>\n",
       "      <td>Exentos de matrícula</td>\n",
       "      <td></td>\n",
       "      <td>Universidad Pedagógica y Tecnológica de Colombia</td>\n",
       "      <td>conjunto de datos</td>\n",
       "      <td>NaN</td>\n",
       "      <td>NaN</td>\n",
       "      <td>https://www.datos.gov.co/d/9inf-whsd/revisions/0</td>\n",
       "      <td>2019-08-28</td>\n",
       "      <td>2019-08-28</td>\n",
       "      <td>...</td>\n",
       "      <td>NaN</td>\n",
       "      <td>NaN</td>\n",
       "      <td>NaN</td>\n",
       "      <td>NaN</td>\n",
       "      <td>NaN</td>\n",
       "      <td>NaN</td>\n",
       "      <td>NaN</td>\n",
       "      <td>NaN</td>\n",
       "      <td>NaN</td>\n",
       "      <td>No</td>\n",
       "    </tr>\n",
       "  </tbody>\n",
       "</table>\n",
       "<p>2 rows × 25 columns</p>\n",
       "</div>"
      ],
      "text/plain": [
       "    numero_api                                             nombre descripcion  \\\n",
       "0  pxrj-5yk9:0  Organizaciones/Entidades Aplicación SIIA - Acr...               \n",
       "1  9inf-whsd:0                               Exentos de matrícula               \n",
       "\n",
       "                                              dueno               tipo  \\\n",
       "0                                             UAEOS  conjunto de datos   \n",
       "1  Universidad Pedagógica y Tecnológica de Colombia  conjunto de datos   \n",
       "\n",
       "  categoria terminos_clave                                               url  \\\n",
       "0       NaN            NaN  https://www.datos.gov.co/d/pxrj-5yk9/revisions/0   \n",
       "1       NaN            NaN  https://www.datos.gov.co/d/9inf-whsd/revisions/0   \n",
       "\n",
       "  fecha_creacion fecha_actualizacion  ... entidad  entidad_url  \\\n",
       "0     2019-12-05          2019-12-05  ...     NaN          NaN   \n",
       "1     2019-08-28          2019-08-28  ...     NaN          NaN   \n",
       "\n",
       "   entidad_sector entidad_departamento entidad_orden entidad_dependencia  \\\n",
       "0             NaN                  NaN           NaN                 NaN   \n",
       "1             NaN                  NaN           NaN                 NaN   \n",
       "\n",
       "  entidad_municipio idioma cobertura base_publica  \n",
       "0               NaN    NaN       NaN           No  \n",
       "1               NaN    NaN       NaN           No  \n",
       "\n",
       "[2 rows x 25 columns]"
      ]
     },
     "execution_count": 3,
     "metadata": {},
     "output_type": "execute_result"
    }
   ],
   "source": [
    "# Al ser un DataFrame de pandas se pueden usar todos los métodos de estos objetos, como el método\n",
    "# 'head(n)', que permite ver las primeras n filas de la tabla\n",
    "inventario.head(2)"
   ]
  },
  {
   "cell_type": "code",
   "execution_count": 4,
   "metadata": {},
   "outputs": [
    {
     "data": {
      "text/plain": [
       "(21678, 25)"
      ]
     },
     "execution_count": 4,
     "metadata": {},
     "output_type": "execute_result"
    }
   ],
   "source": [
    "# Cantidad de filas y columnas de la tabla de inventario\n",
    "inventario.shape"
   ]
  },
  {
   "cell_type": "markdown",
   "metadata": {},
   "source": [
    "---\n",
    "\n",
    "## Filtrar tabla de metadatos con términos clave\n",
    "**¡21.047 filas!** El portal de datos abiertos tiene mucho contenido, por lo que María necesita poder filtrar los conjuntos de datos de alguna manera, para acotar su búsqueda y ahorrar tiempo.\n",
    "\n",
    "Este proceso de filtrado y búsqueda se podría hacer directamente con el objeto de Pandas, pero LEILA también cuenta con la función `filtrar_tabla`, que permite hacer varios filtros al tiempo de manera muy sencilla.\n",
    "\n",
    "Para hacer este filtro, se define un diccionario *columnas_valor*. que indica que se están buscando los conjuntos de datos cuyo nombre contenga la palabra 'visa'."
   ]
  },
  {
   "cell_type": "code",
   "execution_count": 5,
   "metadata": {},
   "outputs": [
    {
     "name": "stderr",
     "output_type": "stream",
     "text": [
      "WARNING:root:Requests made without an app_token will be subject to strict throttling limits.\n"
     ]
    }
   ],
   "source": [
    "columnas_valor = {\"nombre\": [\"visa\"], \"tipo\": [\"conjunto de datos\"]}\n",
    "tabla_filtrada = datos_gov.filtrar_tabla(columnas_valor)"
   ]
  },
  {
   "cell_type": "code",
   "execution_count": 6,
   "metadata": {},
   "outputs": [
    {
     "data": {
      "text/plain": [
       "(4, 25)"
      ]
     },
     "execution_count": 6,
     "metadata": {},
     "output_type": "execute_result"
    }
   ],
   "source": [
    "tabla_filtrada.shape"
   ]
  },
  {
   "cell_type": "markdown",
   "metadata": {},
   "source": [
    "El resultado es otro objeto *DataFrame*, que contiene las filas de la tabla de inventario que cumplen con los criterios específicados. En este caso, la búsqueda de datos que involucren visas redujo la tabla a **solamente 4 filas**.\n",
    "\n",
    "Se puede hacer una inspección rápida de su contenido, para ver si hay algún conjunto de datos que le sirva a María para resolver sus dudas."
   ]
  },
  {
   "cell_type": "code",
   "execution_count": 7,
   "metadata": {},
   "outputs": [
    {
     "data": {
      "text/html": [
       "<div>\n",
       "<style scoped>\n",
       "    .dataframe tbody tr th:only-of-type {\n",
       "        vertical-align: middle;\n",
       "    }\n",
       "\n",
       "    .dataframe tbody tr th {\n",
       "        vertical-align: top;\n",
       "    }\n",
       "\n",
       "    .dataframe thead th {\n",
       "        text-align: right;\n",
       "    }\n",
       "</style>\n",
       "<table border=\"1\" class=\"dataframe\">\n",
       "  <thead>\n",
       "    <tr style=\"text-align: right;\">\n",
       "      <th></th>\n",
       "      <th>numero_api</th>\n",
       "      <th>nombre</th>\n",
       "      <th>descripcion</th>\n",
       "      <th>dueno</th>\n",
       "      <th>tipo</th>\n",
       "      <th>categoria</th>\n",
       "      <th>terminos_clave</th>\n",
       "      <th>url</th>\n",
       "      <th>fecha_creacion</th>\n",
       "      <th>fecha_actualizacion</th>\n",
       "      <th>...</th>\n",
       "      <th>entidad</th>\n",
       "      <th>entidad_url</th>\n",
       "      <th>entidad_sector</th>\n",
       "      <th>entidad_departamento</th>\n",
       "      <th>entidad_orden</th>\n",
       "      <th>entidad_dependencia</th>\n",
       "      <th>entidad_municipio</th>\n",
       "      <th>idioma</th>\n",
       "      <th>cobertura</th>\n",
       "      <th>base_publica</th>\n",
       "    </tr>\n",
       "  </thead>\n",
       "  <tbody>\n",
       "    <tr>\n",
       "      <th>12491</th>\n",
       "      <td>bign-27m7</td>\n",
       "      <td>Paises que no exigen visa de turismo a colombi...</td>\n",
       "      <td>Relaciona los países indicando si exigen visa ...</td>\n",
       "      <td>MINISTERIO DE RELACIONES EXTERIORES</td>\n",
       "      <td>conjunto de datos</td>\n",
       "      <td>Función pública</td>\n",
       "      <td>visa,visado,exención,turismo,viajar,pasaporte,...</td>\n",
       "      <td>https://www.datos.gov.co/d/bign-27m7</td>\n",
       "      <td>2016-11-04</td>\n",
       "      <td>2020-08-01</td>\n",
       "      <td>...</td>\n",
       "      <td>Ministerio de Relaciones Exteriores</td>\n",
       "      <td>NaN</td>\n",
       "      <td>Relaciones Exteriores</td>\n",
       "      <td>Bogotá D.C.</td>\n",
       "      <td>Nacional</td>\n",
       "      <td>Ministerio de Relaciones Exteriores</td>\n",
       "      <td>Bogotá D.C.</td>\n",
       "      <td>Español</td>\n",
       "      <td>Internacional</td>\n",
       "      <td>Si</td>\n",
       "    </tr>\n",
       "    <tr>\n",
       "      <th>18784</th>\n",
       "      <td>g7ps-wzb3</td>\n",
       "      <td>Países que no requieren visa de turismo para i...</td>\n",
       "      <td>Relaciona los países indicando si requieren o ...</td>\n",
       "      <td>MINISTERIO DE RELACIONES EXTERIORES</td>\n",
       "      <td>conjunto de datos</td>\n",
       "      <td>Función pública</td>\n",
       "      <td>visado,visa,viajar,extranjero,permanencia en c...</td>\n",
       "      <td>https://www.datos.gov.co/d/g7ps-wzb3</td>\n",
       "      <td>2016-11-04</td>\n",
       "      <td>2020-08-01</td>\n",
       "      <td>...</td>\n",
       "      <td>Ministerio de Relaciones Exteriores</td>\n",
       "      <td>NaN</td>\n",
       "      <td>Relaciones Exteriores</td>\n",
       "      <td>Bogotá D.C.</td>\n",
       "      <td>Nacional</td>\n",
       "      <td>Ministerio de Relaciones Exteriores</td>\n",
       "      <td>Bogotá D.C.</td>\n",
       "      <td>Español</td>\n",
       "      <td>Internacional</td>\n",
       "      <td>Si</td>\n",
       "    </tr>\n",
       "    <tr>\n",
       "      <th>19104</th>\n",
       "      <td>h44k-fvv7</td>\n",
       "      <td>Reporte de directivos de entidades públicas vi...</td>\n",
       "      <td></td>\n",
       "      <td>Superintendencia Financiera de Colombia</td>\n",
       "      <td>conjunto de datos</td>\n",
       "      <td>Economía y Finanzas</td>\n",
       "      <td>reporte,directivos,publicas,vigiladas,supervis...</td>\n",
       "      <td>https://www.datos.gov.co/d/h44k-fvv7</td>\n",
       "      <td>2020-05-29</td>\n",
       "      <td>2020-05-29</td>\n",
       "      <td>...</td>\n",
       "      <td>Superintendencia Financiera de Colombia</td>\n",
       "      <td>NaN</td>\n",
       "      <td>Hacienda y Crédito Público</td>\n",
       "      <td>Bogotá D.C.</td>\n",
       "      <td>Nacional</td>\n",
       "      <td>Subdirección de Análisis de Información</td>\n",
       "      <td>Bogotá D.C.</td>\n",
       "      <td>Español</td>\n",
       "      <td>Nacional</td>\n",
       "      <td>Si</td>\n",
       "    </tr>\n",
       "    <tr>\n",
       "      <th>19697</th>\n",
       "      <td>kmkm-88sj</td>\n",
       "      <td>Registro  visas expedidas a ciudadanos venezol...</td>\n",
       "      <td>Información de solicitudes de visas tramitadas...</td>\n",
       "      <td>MINISTERIO DE RELACIONES EXTERIORES</td>\n",
       "      <td>conjunto de datos</td>\n",
       "      <td>Estadísticas Nacionales</td>\n",
       "      <td>NaN</td>\n",
       "      <td>https://www.datos.gov.co/d/kmkm-88sj</td>\n",
       "      <td>2019-09-23</td>\n",
       "      <td>2020-05-05</td>\n",
       "      <td>...</td>\n",
       "      <td>NaN</td>\n",
       "      <td>NaN</td>\n",
       "      <td>Estadísticas</td>\n",
       "      <td>Bogotá D.C.</td>\n",
       "      <td>Internacional</td>\n",
       "      <td>Ministerio de Relaciones Exteriores</td>\n",
       "      <td>Bogotá D.C.</td>\n",
       "      <td>Español</td>\n",
       "      <td>Internacional</td>\n",
       "      <td>Si</td>\n",
       "    </tr>\n",
       "  </tbody>\n",
       "</table>\n",
       "<p>4 rows × 25 columns</p>\n",
       "</div>"
      ],
      "text/plain": [
       "      numero_api                                             nombre  \\\n",
       "12491  bign-27m7  Paises que no exigen visa de turismo a colombi...   \n",
       "18784  g7ps-wzb3  Países que no requieren visa de turismo para i...   \n",
       "19104  h44k-fvv7  Reporte de directivos de entidades públicas vi...   \n",
       "19697  kmkm-88sj  Registro  visas expedidas a ciudadanos venezol...   \n",
       "\n",
       "                                             descripcion  \\\n",
       "12491  Relaciona los países indicando si exigen visa ...   \n",
       "18784  Relaciona los países indicando si requieren o ...   \n",
       "19104                                                      \n",
       "19697  Información de solicitudes de visas tramitadas...   \n",
       "\n",
       "                                         dueno               tipo  \\\n",
       "12491      MINISTERIO DE RELACIONES EXTERIORES  conjunto de datos   \n",
       "18784      MINISTERIO DE RELACIONES EXTERIORES  conjunto de datos   \n",
       "19104  Superintendencia Financiera de Colombia  conjunto de datos   \n",
       "19697      MINISTERIO DE RELACIONES EXTERIORES  conjunto de datos   \n",
       "\n",
       "                     categoria  \\\n",
       "12491          Función pública   \n",
       "18784          Función pública   \n",
       "19104      Economía y Finanzas   \n",
       "19697  Estadísticas Nacionales   \n",
       "\n",
       "                                          terminos_clave  \\\n",
       "12491  visa,visado,exención,turismo,viajar,pasaporte,...   \n",
       "18784  visado,visa,viajar,extranjero,permanencia en c...   \n",
       "19104  reporte,directivos,publicas,vigiladas,supervis...   \n",
       "19697                                                NaN   \n",
       "\n",
       "                                        url fecha_creacion  \\\n",
       "12491  https://www.datos.gov.co/d/bign-27m7     2016-11-04   \n",
       "18784  https://www.datos.gov.co/d/g7ps-wzb3     2016-11-04   \n",
       "19104  https://www.datos.gov.co/d/h44k-fvv7     2020-05-29   \n",
       "19697  https://www.datos.gov.co/d/kmkm-88sj     2019-09-23   \n",
       "\n",
       "      fecha_actualizacion  ...                                  entidad  \\\n",
       "12491          2020-08-01  ...      Ministerio de Relaciones Exteriores   \n",
       "18784          2020-08-01  ...      Ministerio de Relaciones Exteriores   \n",
       "19104          2020-05-29  ...  Superintendencia Financiera de Colombia   \n",
       "19697          2020-05-05  ...                                      NaN   \n",
       "\n",
       "       entidad_url              entidad_sector entidad_departamento  \\\n",
       "12491          NaN       Relaciones Exteriores          Bogotá D.C.   \n",
       "18784          NaN       Relaciones Exteriores          Bogotá D.C.   \n",
       "19104          NaN  Hacienda y Crédito Público          Bogotá D.C.   \n",
       "19697          NaN                Estadísticas          Bogotá D.C.   \n",
       "\n",
       "       entidad_orden                      entidad_dependencia  \\\n",
       "12491       Nacional      Ministerio de Relaciones Exteriores   \n",
       "18784       Nacional      Ministerio de Relaciones Exteriores   \n",
       "19104       Nacional  Subdirección de Análisis de Información   \n",
       "19697  Internacional      Ministerio de Relaciones Exteriores   \n",
       "\n",
       "      entidad_municipio   idioma      cobertura base_publica  \n",
       "12491       Bogotá D.C.  Español  Internacional           Si  \n",
       "18784       Bogotá D.C.  Español  Internacional           Si  \n",
       "19104       Bogotá D.C.  Español       Nacional           Si  \n",
       "19697       Bogotá D.C.  Español  Internacional           Si  \n",
       "\n",
       "[4 rows x 25 columns]"
      ]
     },
     "execution_count": 7,
     "metadata": {},
     "output_type": "execute_result"
    }
   ],
   "source": [
    "tabla_filtrada"
   ]
  },
  {
   "cell_type": "markdown",
   "metadata": {},
   "source": [
    "---\n",
    "## Descargar conjunto de datos a partir de la tabla filtrada\n",
    "\n",
    "<p align=\"center\">\n",
    "  <img src=\"imgs/eureka.png\" width=200 height=200 />\n",
    "</p>\n",
    "\n",
    "\n",
    "¡Eureka! Parece que hay conjuntos de datos con información útil para esta situación. En particular, el conjunto de datos con código de API *'bign-27m7'* se ve útil, así que vamos a descargarlo."
   ]
  },
  {
   "cell_type": "code",
   "execution_count": 8,
   "metadata": {},
   "outputs": [
    {
     "name": "stderr",
     "output_type": "stream",
     "text": [
      "WARNING:root:Requests made without an app_token will be subject to strict throttling limits.\n"
     ]
    },
    {
     "data": {
      "text/html": [
       "<div>\n",
       "<style scoped>\n",
       "    .dataframe tbody tr th:only-of-type {\n",
       "        vertical-align: middle;\n",
       "    }\n",
       "\n",
       "    .dataframe tbody tr th {\n",
       "        vertical-align: top;\n",
       "    }\n",
       "\n",
       "    .dataframe thead th {\n",
       "        text-align: right;\n",
       "    }\n",
       "</style>\n",
       "<table border=\"1\" class=\"dataframe\">\n",
       "  <thead>\n",
       "    <tr style=\"text-align: right;\">\n",
       "      <th></th>\n",
       "      <th>regi_n</th>\n",
       "      <th>otros_territorios</th>\n",
       "      <th>pa_s</th>\n",
       "      <th>localizaci_n</th>\n",
       "      <th>exige_visa_corta_duraci_n</th>\n",
       "      <th>exige_visa_para_pasaporte_oficial</th>\n",
       "      <th>exige_visa_para_pasaporte_diplomatico</th>\n",
       "      <th>condiciones_especiales</th>\n",
       "    </tr>\n",
       "  </thead>\n",
       "  <tbody>\n",
       "    <tr>\n",
       "      <th>0</th>\n",
       "      <td>ASIA CENTRAL</td>\n",
       "      <td>NO</td>\n",
       "      <td>AFGANISTÁN</td>\n",
       "      <td>{'latitude': '33.93911', 'longitude': '67.7099...</td>\n",
       "      <td>SI</td>\n",
       "      <td>SI</td>\n",
       "      <td>SI</td>\n",
       "      <td>(N/A)</td>\n",
       "    </tr>\n",
       "    <tr>\n",
       "      <th>1</th>\n",
       "      <td>EUROPA SCHENGEN</td>\n",
       "      <td>NO</td>\n",
       "      <td>GRECIA</td>\n",
       "      <td>{'latitude': '39.074208', 'longitude': '21.824...</td>\n",
       "      <td>NO</td>\n",
       "      <td>NO</td>\n",
       "      <td>NO</td>\n",
       "      <td>(N/A)</td>\n",
       "    </tr>\n",
       "    <tr>\n",
       "      <th>2</th>\n",
       "      <td>AMERICA DEL NORTE</td>\n",
       "      <td>NO</td>\n",
       "      <td>ESTADOS UNIDOS DE AMÉRICA</td>\n",
       "      <td>{'latitude': '37.09024', 'longitude': '-95.712...</td>\n",
       "      <td>SI</td>\n",
       "      <td>SI</td>\n",
       "      <td>SI</td>\n",
       "      <td>(N/A)</td>\n",
       "    </tr>\n",
       "  </tbody>\n",
       "</table>\n",
       "</div>"
      ],
      "text/plain": [
       "              regi_n otros_territorios                       pa_s  \\\n",
       "0       ASIA CENTRAL                NO                 AFGANISTÁN   \n",
       "1    EUROPA SCHENGEN                NO                     GRECIA   \n",
       "2  AMERICA DEL NORTE                NO  ESTADOS UNIDOS DE AMÉRICA   \n",
       "\n",
       "                                        localizaci_n  \\\n",
       "0  {'latitude': '33.93911', 'longitude': '67.7099...   \n",
       "1  {'latitude': '39.074208', 'longitude': '21.824...   \n",
       "2  {'latitude': '37.09024', 'longitude': '-95.712...   \n",
       "\n",
       "  exige_visa_corta_duraci_n exige_visa_para_pasaporte_oficial  \\\n",
       "0                        SI                                SI   \n",
       "1                        NO                                NO   \n",
       "2                        SI                                SI   \n",
       "\n",
       "  exige_visa_para_pasaporte_diplomatico condiciones_especiales  \n",
       "0                                    SI                  (N/A)  \n",
       "1                                    NO                  (N/A)  \n",
       "2                                    SI                  (N/A)  "
      ]
     },
     "execution_count": 8,
     "metadata": {},
     "output_type": "execute_result"
    }
   ],
   "source": [
    "codigo_api = \"bign-27m7\"\n",
    "datos_visas = datos_gov.cargar_base(codigo_api)\n",
    "datos_visas.head(3)"
   ]
  },
  {
   "cell_type": "markdown",
   "metadata": {},
   "source": [
    "La clase `CalidadDatos` permite obtener estadísticas descriptivas sobre el conjunto de datos, y calcular algunas métricas de calidad. Su principal argumento es el conjunto de datos que deseamos evaluar."
   ]
  },
  {
   "cell_type": "code",
   "execution_count": 9,
   "metadata": {},
   "outputs": [],
   "source": [
    "calidad_datos = CalidadDatos(datos_visas, castNumero=True)"
   ]
  },
  {
   "cell_type": "markdown",
   "metadata": {},
   "source": [
    "Utilizando el objeto `calidad_datos`, se puede por ejemplo generar una tabla con el resumen descriptivo del conjunto de datos. Esta tabla contiene información general del conjunto de datos y es una buena primera aproximación para entender la estructura del conjunto de datos."
   ]
  },
  {
   "cell_type": "code",
   "execution_count": 10,
   "metadata": {},
   "outputs": [
    {
     "name": "stdout",
     "output_type": "stream",
     "text": [
      "La base de datos no tiene columnas numéricas\n"
     ]
    },
    {
     "data": {
      "text/plain": [
       "Número de filas                                        98\n",
       "Número de columnas                                      8\n",
       "Columnas numéricas                                      0\n",
       "Columnas de texto                                       7\n",
       "Columnas booleanas                                      0\n",
       "Columnas de fecha                                       0\n",
       "Otro tipo de columnas                                   1\n",
       "Número de filas repetidas                               0\n",
       "Número de columnas repetidas                            1\n",
       "Columnas con más de la mitad de datos faltantes         0\n",
       "Uso en memoria de la base en kylobytes (aproximado)     6\n",
       "dtype: int32"
      ]
     },
     "execution_count": 10,
     "metadata": {},
     "output_type": "execute_result"
    }
   ],
   "source": [
    "resumen = calidad_datos.Resumen(columnasRepetidas=True)\n",
    "resumen"
   ]
  },
  {
   "cell_type": "markdown",
   "metadata": {},
   "source": [
    "También es posible averiguar si el conjunto de datos contiene columnas repetidas, para que el ususario no se desgaste analizando datos redundantes."
   ]
  },
  {
   "cell_type": "code",
   "execution_count": 11,
   "metadata": {},
   "outputs": [
    {
     "data": {
      "text/html": [
       "<div>\n",
       "<style scoped>\n",
       "    .dataframe tbody tr th:only-of-type {\n",
       "        vertical-align: middle;\n",
       "    }\n",
       "\n",
       "    .dataframe tbody tr th {\n",
       "        vertical-align: top;\n",
       "    }\n",
       "\n",
       "    .dataframe thead th {\n",
       "        text-align: right;\n",
       "    }\n",
       "</style>\n",
       "<table border=\"1\" class=\"dataframe\">\n",
       "  <thead>\n",
       "    <tr style=\"text-align: right;\">\n",
       "      <th></th>\n",
       "      <th>Columnas iguales 1</th>\n",
       "    </tr>\n",
       "  </thead>\n",
       "  <tbody>\n",
       "    <tr>\n",
       "      <th>0</th>\n",
       "      <td>exige_visa_para_pasaporte_oficial</td>\n",
       "    </tr>\n",
       "    <tr>\n",
       "      <th>1</th>\n",
       "      <td>exige_visa_para_pasaporte_diplomatico</td>\n",
       "    </tr>\n",
       "  </tbody>\n",
       "</table>\n",
       "</div>"
      ],
      "text/plain": [
       "                      Columnas iguales 1\n",
       "0      exige_visa_para_pasaporte_oficial\n",
       "1  exige_visa_para_pasaporte_diplomatico"
      ]
     },
     "execution_count": 11,
     "metadata": {},
     "output_type": "execute_result"
    }
   ],
   "source": [
    "duplicados_col = calidad_datos.EmparejamientoDuplicados(col=True)\n",
    "duplicados_col"
   ]
  },
  {
   "cell_type": "markdown",
   "metadata": {},
   "source": [
    "---\n",
    "\n",
    "## Generar reporte automático\n",
    "María debe salir de su casa en este momento para ir a trabajar, pero no ha terminado de analizar el conjunto de datos sobre requerimientos de visas a colombianos. Sin embargo, puede generar un reporte interactivo en HTML sobre estos datos, y puede ir estudiándolo mientras va en el Transmilenio.\n",
    "\n",
    "La función `generar_reporte` permite crear un archivo HTML con resultados y métricas de calidad sobre el conjunto de datos seleccionado."
   ]
  },
  {
   "cell_type": "code",
   "execution_count": 12,
   "metadata": {},
   "outputs": [
    {
     "name": "stderr",
     "output_type": "stream",
     "text": [
      "WARNING:root:Requests made without an app_token will be subject to strict throttling limits.\n",
      "WARNING:root:Requests made without an app_token will be subject to strict throttling limits.\n"
     ]
    },
    {
     "name": "stdout",
     "output_type": "stream",
     "text": [
      "--------------------------------------------------------------------------------------------\n",
      "La base de datos no tiene columnas numéricas\n",
      "No hay filas duplicadas\n",
      "La base de datos no tiene columnas numéricas\n",
      "--------------------------------------------------------------------------------------------\n",
      "Se ha generado el reporte \"reporte_visas.html\"\n",
      "10:53:39 AM (00 min 4 seg)\n",
      "--------------------------------------------------------------------------------------------\n"
     ]
    }
   ],
   "source": [
    "generar_reporte(api_id=\"bign-27m7\", titulo = \"Reporte visas\", archivo='reporte_visas.html')"
   ]
  },
  {
   "cell_type": "markdown",
   "metadata": {},
   "source": [
    "----\n",
    "# 2. Información sobre casos de COVID 19 en Colombia\n",
    "\n",
    "No es claro cuándo se podrá viajar de nuevo. Ante este escenario, María le pidió a un amigo datos sobre los casos de contagio en Colombia. Ahora, María quiere evaluar si esta información sirve para realizar análisis más avanzados."
   ]
  },
  {
   "cell_type": "code",
   "execution_count": 13,
   "metadata": {},
   "outputs": [
    {
     "name": "stderr",
     "output_type": "stream",
     "text": [
      "c:\\users\\pablo\\appdata\\local\\programs\\python\\python37\\lib\\site-packages\\leila\\calidad_datos.py:1137: RuntimeWarning: invalid value encountered in double_scalars\n",
      "  return np.sqrt(phi2corr / min((kcorr - 1), (rcorr - 1)))\n"
     ]
    },
    {
     "name": "stdout",
     "output_type": "stream",
     "text": [
      "--------------------------------------------------------------------------------------------\n",
      "Se ha generado el reporte \"reporte_covid.html\"\n",
      "10:54:02 AM (00 min 37 seg)\n",
      "--------------------------------------------------------------------------------------------\n"
     ]
    }
   ],
   "source": [
    "# Importar pandas\n",
    "import pandas as pd\n",
    "\n",
    "# Cargar base de datos desde el computador local\n",
    "datos_covid = pd.read_excel('covid_19_colombia.xlsx')\n",
    "\n",
    "# Generar reporte sobre la base de datos\n",
    "generar_reporte(datos_covid, titulo = \"Reporte COVID-19\", archivo='reporte_covid.html')"
   ]
  }
 ],
 "metadata": {
  "kernelspec": {
   "display_name": "Python 3",
   "language": "python",
   "name": "python3"
  },
  "language_info": {
   "codemirror_mode": {
    "name": "ipython",
    "version": 3
   },
   "file_extension": ".py",
   "mimetype": "text/x-python",
   "name": "python",
   "nbconvert_exporter": "python",
   "pygments_lexer": "ipython3",
   "version": "3.7.6"
  }
 },
 "nbformat": 4,
 "nbformat_minor": 4
}
